{
 "cells": [
  {
   "cell_type": "markdown",
   "metadata": {},
   "source": [
    "## Wrangle report"
   ]
  },
  {
   "cell_type": "markdown",
   "metadata": {},
   "source": [
    "The wrangling act/process of this project consists of four phases - gathering, assessing, cleaning and storing.\n",
    "\n",
    "Firstly, we had to gather three different datasets from three different sources each. They were 1) The WeRateDogs Twitter account, archive tweets from a .csv using **Pandas**, 2) the image predictions of each dog according to a neural network which, was found from a URL provided using the **Requests** library and 3) additional data from the Twitter API such as each tweets retweet count and favourite/like count. I had a delay in accessing the Twitter API with the developer account, so I made use of the JSON data using the **JSON** library.\n",
    "\n",
    "After all the data was gathered into their relevant dataframes, each individual dataset was assessed to look for any quality and tidiness issues which were done programmatically and visually. There were specific requirements that had to be met when in the assessing phase. The first dataset were required to only have original tweets (no retweets or replies), to exclude tweets from a certain date onwards\n",
    "\n",
    "When all the quality and tidiness issues were identified, then it was time to clean up the issues which is now the cleaning phase. Each dataset had a copy of it created as that is best practice when cleaning. Each cleaning step had to follow the Define-Code-Test framework, which is to document what the specific issue is, write the code that would fix the issue, and then test the code to see if it did as intended.\n",
    "\n",
    "Once all the datasets were cleaned as best as possible individually, I then combined all the datasets into one main dataset where they each had the same column name - **tweet_id** - to make it easier to make an analysis and visualisation.\n",
    "\n",
    "In the final step, the main dataset was stored in a .csv called **twitter_archive_master.csv**"
   ]
  }
 ],
 "metadata": {
  "kernelspec": {
   "display_name": "Python 3",
   "language": "python",
   "name": "python3"
  },
  "language_info": {
   "codemirror_mode": {
    "name": "ipython",
    "version": 3
   },
   "file_extension": ".py",
   "mimetype": "text/x-python",
   "name": "python",
   "nbconvert_exporter": "python",
   "pygments_lexer": "ipython3",
   "version": "3.6.3"
  }
 },
 "nbformat": 4,
 "nbformat_minor": 2
}
